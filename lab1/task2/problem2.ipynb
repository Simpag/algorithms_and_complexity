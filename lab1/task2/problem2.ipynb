{
 "cells": [
  {
   "cell_type": "code",
   "execution_count": 8,
   "metadata": {},
   "outputs": [],
   "source": [
    "import sys\n",
    "from time import process_time\n",
    "import matplotlib.pyplot as plt\n",
    "\n",
    "sys.setrecursionlimit(100_000_000)"
   ]
  },
  {
   "cell_type": "code",
   "execution_count": 9,
   "metadata": {},
   "outputs": [],
   "source": [
    "n = 20      # games to play\n",
    "k = 4       # win streak\n",
    "p = 0.42    # prob of winning"
   ]
  },
  {
   "cell_type": "code",
   "execution_count": 10,
   "metadata": {},
   "outputs": [],
   "source": [
    "def f(x,y,p,k,buffer):\n",
    "    if y == 0:\n",
    "        return 1\n",
    "    elif x == 0 and y > 0:\n",
    "        return 0\n",
    "    elif buffer[x][y] is not None:\n",
    "        return buffer[x][y]\n",
    "\n",
    "    buffer[x][y] = p*f(x-1, y-1, p,k, buffer) + (1-p) * f(x-1, k, p,k, buffer)\n",
    "    return buffer[x][y]"
   ]
  },
  {
   "cell_type": "code",
   "execution_count": 11,
   "metadata": {},
   "outputs": [
    {
     "name": "stdout",
     "output_type": "stream",
     "text": [
      "0.2922575722241295\n"
     ]
    }
   ],
   "source": [
    "buffer = [[None for j in range(k+1)] for i in range(n+1)]\n",
    "print(f(n,k,p,k,buffer))"
   ]
  },
  {
   "attachments": {},
   "cell_type": "markdown",
   "metadata": {},
   "source": [
    "(c) Another recurrence that can be used to solve the problem is to define, for an integer 0 < x < n.\n"
   ]
  },
  {
   "cell_type": "code",
   "execution_count": 12,
   "metadata": {},
   "outputs": [],
   "source": [
    "def g(x,k,p,buffer):\n",
    "    if x < k:\n",
    "        return 0.0\n",
    "    elif x == k:\n",
    "        return p**k\n",
    "    elif buffer[x] is not None:\n",
    "        return buffer[x]\n",
    "        \n",
    "    buffer[x] = g(x-1,k,p,buffer) + p**k * (1-p) * (1 - g(x-k-1,k,p,buffer))\n",
    "    return buffer[x]"
   ]
  },
  {
   "cell_type": "code",
   "execution_count": 13,
   "metadata": {},
   "outputs": [
    {
     "name": "stdout",
     "output_type": "stream",
     "text": [
      "0.2922575722241294\n"
     ]
    }
   ],
   "source": [
    "buffer = [None for x in range(n+1)]\n",
    "print(g(n,k,p,buffer))"
   ]
  },
  {
   "cell_type": "code",
   "execution_count": null,
   "metadata": {},
   "outputs": [],
   "source": []
  }
 ],
 "metadata": {
  "kernelspec": {
   "display_name": "Python 3",
   "language": "python",
   "name": "python3"
  },
  "language_info": {
   "codemirror_mode": {
    "name": "ipython",
    "version": 3
   },
   "file_extension": ".py",
   "mimetype": "text/x-python",
   "name": "python",
   "nbconvert_exporter": "python",
   "pygments_lexer": "ipython3",
   "version": "3.10.5"
  },
  "orig_nbformat": 4,
  "vscode": {
   "interpreter": {
    "hash": "c5d01433c49bebc7c0f039aefb7a5f7006b5cc5372ab57f4229212c8564f15fd"
   }
  }
 },
 "nbformat": 4,
 "nbformat_minor": 2
}
