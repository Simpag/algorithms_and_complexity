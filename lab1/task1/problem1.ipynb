{
 "cells": [
  {
   "cell_type": "code",
   "execution_count": 1,
   "metadata": {},
   "outputs": [],
   "source": [
    "import sys\n",
    "import numpy as np\n",
    "import matplotlib.pyplot as plt\n",
    "from time import process_time\n",
    "\n",
    "sys.setrecursionlimit(1_000_000)"
   ]
  },
  {
   "cell_type": "code",
   "execution_count": 21,
   "metadata": {},
   "outputs": [],
   "source": [
    "# Get input\n",
    "with open('input.txt') as f:\n",
    "    n = int(f.readline())\n",
    "    a = int(f.readline())\n",
    "    b = int(f.readline())\n",
    "    c = int(f.readline())"
   ]
  },
  {
   "attachments": {},
   "cell_type": "markdown",
   "metadata": {},
   "source": [
    "(a) Write a direct recursive implementation (without any dynamic programming component) of this recurrence.\n",
    "\n",
    "Submit this implementation to the Kattis problem. It will likely get a \"Time Limit Exceeded Result\". In order to pass this part of the lab, your implementation here must pass at least the first 33 test cases on Kattis."
   ]
  },
  {
   "cell_type": "code",
   "execution_count": 2,
   "metadata": {},
   "outputs": [],
   "source": [
    "def recursive_a(n):\n",
    "    if n < 0:\n",
    "        return np.inf\n",
    "    elif n == 0:\n",
    "        return 0\n",
    "    \n",
    "    return min((n, 1 + recursive_a(n-a), 1 + recursive_a(n-b), 1 + recursive_a(n-c)))"
   ]
  },
  {
   "cell_type": "code",
   "execution_count": 23,
   "metadata": {},
   "outputs": [
    {
     "data": {
      "text/plain": [
       "3"
      ]
     },
     "execution_count": 23,
     "metadata": {},
     "output_type": "execute_result"
    }
   ],
   "source": [
    "# Call solution a\n",
    "recursive_a(n)"
   ]
  },
  {
   "attachments": {},
   "cell_type": "markdown",
   "metadata": {},
   "source": [
    "(b) Fix the values a = 5, b = 6, c = 7 (the same ones used in the second sample input on Kattis) and time your code for increasing values of n. How large instances (what value of n) can your program solve in 1 second (on your machine)? If you take that n and increment it by one at a time (i.e., try n+1, n+2, n+3 etc), how does the runtime\n",
    "change? If you instead take that n and then repeatedly double it (i.e. try 2*n, 4*n, 8*n, etc), how does the runtime change? Tabulate and/or plot the results. Based on these experiments, what would be a reasonable estimate of the time complexity of your program?"
   ]
  },
  {
   "cell_type": "code",
   "execution_count": 43,
   "metadata": {},
   "outputs": [],
   "source": [
    "def time_a(n):\n",
    "    start = process_time()\n",
    "    recursive_a(n)\n",
    "    end = process_time()\n",
    "    \n",
    "    return end - start"
   ]
  },
  {
   "cell_type": "code",
   "execution_count": 2,
   "metadata": {},
   "outputs": [],
   "source": [
    "a = 5\n",
    "b = 6\n",
    "c = 7"
   ]
  },
  {
   "cell_type": "code",
   "execution_count": 48,
   "metadata": {},
   "outputs": [],
   "source": [
    "n = 81\n",
    "linear = [n+x for x in range(0,20)]\n",
    "exponential = [2**x * n for x in range(3)]"
   ]
  },
  {
   "cell_type": "code",
   "execution_count": 49,
   "metadata": {},
   "outputs": [
    {
     "name": "stdout",
     "output_type": "stream",
     "text": [
      "[81, 82, 83, 84, 85, 86, 87, 88, 89, 90, 91, 92, 93, 94, 95, 96, 97, 98, 99, 100] [81, 162, 324]\n"
     ]
    }
   ],
   "source": [
    "print(linear, exponential)"
   ]
  },
  {
   "cell_type": "code",
   "execution_count": 50,
   "metadata": {},
   "outputs": [],
   "source": [
    "linear_res = [time_a(x) for x in linear]"
   ]
  },
  {
   "cell_type": "code",
   "execution_count": 9,
   "metadata": {},
   "outputs": [
    {
     "ename": "KeyboardInterrupt",
     "evalue": "",
     "output_type": "error",
     "traceback": [
      "\u001b[1;31m---------------------------------------------------------------------------\u001b[0m",
      "\u001b[1;31mKeyboardInterrupt\u001b[0m                         Traceback (most recent call last)",
      "\u001b[1;32mc:\\Users\\Simon\\Documents\\Github\\algorithms_and_complexity\\lab1\\problem1.ipynb Cell 13\u001b[0m in \u001b[0;36m<cell line: 1>\u001b[1;34m()\u001b[0m\n\u001b[1;32m----> <a href='vscode-notebook-cell:/c%3A/Users/Simon/Documents/Github/algorithms_and_complexity/lab1/problem1.ipynb#X12sZmlsZQ%3D%3D?line=0'>1</a>\u001b[0m exponential_res \u001b[39m=\u001b[39m [time_a(x) \u001b[39mfor\u001b[39;00m x \u001b[39min\u001b[39;00m exponential]\n",
      "\u001b[1;32mc:\\Users\\Simon\\Documents\\Github\\algorithms_and_complexity\\lab1\\problem1.ipynb Cell 13\u001b[0m in \u001b[0;36m<listcomp>\u001b[1;34m(.0)\u001b[0m\n\u001b[1;32m----> <a href='vscode-notebook-cell:/c%3A/Users/Simon/Documents/Github/algorithms_and_complexity/lab1/problem1.ipynb#X12sZmlsZQ%3D%3D?line=0'>1</a>\u001b[0m exponential_res \u001b[39m=\u001b[39m [time_a(x) \u001b[39mfor\u001b[39;00m x \u001b[39min\u001b[39;00m exponential]\n",
      "\u001b[1;32mc:\\Users\\Simon\\Documents\\Github\\algorithms_and_complexity\\lab1\\problem1.ipynb Cell 13\u001b[0m in \u001b[0;36mtime_a\u001b[1;34m(n)\u001b[0m\n\u001b[0;32m      <a href='vscode-notebook-cell:/c%3A/Users/Simon/Documents/Github/algorithms_and_complexity/lab1/problem1.ipynb#X12sZmlsZQ%3D%3D?line=0'>1</a>\u001b[0m \u001b[39mdef\u001b[39;00m \u001b[39mtime_a\u001b[39m(n):\n\u001b[0;32m      <a href='vscode-notebook-cell:/c%3A/Users/Simon/Documents/Github/algorithms_and_complexity/lab1/problem1.ipynb#X12sZmlsZQ%3D%3D?line=1'>2</a>\u001b[0m     start \u001b[39m=\u001b[39m time()\n\u001b[1;32m----> <a href='vscode-notebook-cell:/c%3A/Users/Simon/Documents/Github/algorithms_and_complexity/lab1/problem1.ipynb#X12sZmlsZQ%3D%3D?line=2'>3</a>\u001b[0m     recurive_a(n)\n\u001b[0;32m      <a href='vscode-notebook-cell:/c%3A/Users/Simon/Documents/Github/algorithms_and_complexity/lab1/problem1.ipynb#X12sZmlsZQ%3D%3D?line=3'>4</a>\u001b[0m     end \u001b[39m=\u001b[39m time()\n\u001b[0;32m      <a href='vscode-notebook-cell:/c%3A/Users/Simon/Documents/Github/algorithms_and_complexity/lab1/problem1.ipynb#X12sZmlsZQ%3D%3D?line=5'>6</a>\u001b[0m     \u001b[39mreturn\u001b[39;00m end \u001b[39m-\u001b[39m start\n",
      "\u001b[1;32mc:\\Users\\Simon\\Documents\\Github\\algorithms_and_complexity\\lab1\\problem1.ipynb Cell 13\u001b[0m in \u001b[0;36mrecurive_a\u001b[1;34m(n)\u001b[0m\n\u001b[0;32m      <a href='vscode-notebook-cell:/c%3A/Users/Simon/Documents/Github/algorithms_and_complexity/lab1/problem1.ipynb#X12sZmlsZQ%3D%3D?line=1'>2</a>\u001b[0m \u001b[39mif\u001b[39;00m n \u001b[39m<\u001b[39m \u001b[39m1\u001b[39m:\n\u001b[0;32m      <a href='vscode-notebook-cell:/c%3A/Users/Simon/Documents/Github/algorithms_and_complexity/lab1/problem1.ipynb#X12sZmlsZQ%3D%3D?line=2'>3</a>\u001b[0m     \u001b[39mreturn\u001b[39;00m \u001b[39m0\u001b[39m\n\u001b[1;32m----> <a href='vscode-notebook-cell:/c%3A/Users/Simon/Documents/Github/algorithms_and_complexity/lab1/problem1.ipynb#X12sZmlsZQ%3D%3D?line=4'>5</a>\u001b[0m \u001b[39mreturn\u001b[39;00m \u001b[39mmin\u001b[39m(n, \u001b[39m1\u001b[39m \u001b[39m+\u001b[39m recurive_a(n\u001b[39m-\u001b[39;49ma), \u001b[39m1\u001b[39m \u001b[39m+\u001b[39m recurive_a(n\u001b[39m-\u001b[39mb), \u001b[39m1\u001b[39m \u001b[39m+\u001b[39m recurive_a(n\u001b[39m-\u001b[39mc))\n",
      "\u001b[1;32mc:\\Users\\Simon\\Documents\\Github\\algorithms_and_complexity\\lab1\\problem1.ipynb Cell 13\u001b[0m in \u001b[0;36mrecurive_a\u001b[1;34m(n)\u001b[0m\n\u001b[0;32m      <a href='vscode-notebook-cell:/c%3A/Users/Simon/Documents/Github/algorithms_and_complexity/lab1/problem1.ipynb#X12sZmlsZQ%3D%3D?line=1'>2</a>\u001b[0m \u001b[39mif\u001b[39;00m n \u001b[39m<\u001b[39m \u001b[39m1\u001b[39m:\n\u001b[0;32m      <a href='vscode-notebook-cell:/c%3A/Users/Simon/Documents/Github/algorithms_and_complexity/lab1/problem1.ipynb#X12sZmlsZQ%3D%3D?line=2'>3</a>\u001b[0m     \u001b[39mreturn\u001b[39;00m \u001b[39m0\u001b[39m\n\u001b[1;32m----> <a href='vscode-notebook-cell:/c%3A/Users/Simon/Documents/Github/algorithms_and_complexity/lab1/problem1.ipynb#X12sZmlsZQ%3D%3D?line=4'>5</a>\u001b[0m \u001b[39mreturn\u001b[39;00m \u001b[39mmin\u001b[39m(n, \u001b[39m1\u001b[39m \u001b[39m+\u001b[39m recurive_a(n\u001b[39m-\u001b[39;49ma), \u001b[39m1\u001b[39m \u001b[39m+\u001b[39m recurive_a(n\u001b[39m-\u001b[39mb), \u001b[39m1\u001b[39m \u001b[39m+\u001b[39m recurive_a(n\u001b[39m-\u001b[39mc))\n",
      "    \u001b[1;31m[... skipping similar frames: recurive_a at line 5 (27 times)]\u001b[0m\n",
      "\u001b[1;32mc:\\Users\\Simon\\Documents\\Github\\algorithms_and_complexity\\lab1\\problem1.ipynb Cell 13\u001b[0m in \u001b[0;36mrecurive_a\u001b[1;34m(n)\u001b[0m\n\u001b[0;32m      <a href='vscode-notebook-cell:/c%3A/Users/Simon/Documents/Github/algorithms_and_complexity/lab1/problem1.ipynb#X12sZmlsZQ%3D%3D?line=1'>2</a>\u001b[0m \u001b[39mif\u001b[39;00m n \u001b[39m<\u001b[39m \u001b[39m1\u001b[39m:\n\u001b[0;32m      <a href='vscode-notebook-cell:/c%3A/Users/Simon/Documents/Github/algorithms_and_complexity/lab1/problem1.ipynb#X12sZmlsZQ%3D%3D?line=2'>3</a>\u001b[0m     \u001b[39mreturn\u001b[39;00m \u001b[39m0\u001b[39m\n\u001b[1;32m----> <a href='vscode-notebook-cell:/c%3A/Users/Simon/Documents/Github/algorithms_and_complexity/lab1/problem1.ipynb#X12sZmlsZQ%3D%3D?line=4'>5</a>\u001b[0m \u001b[39mreturn\u001b[39;00m \u001b[39mmin\u001b[39m(n, \u001b[39m1\u001b[39m \u001b[39m+\u001b[39m recurive_a(n\u001b[39m-\u001b[39ma), \u001b[39m1\u001b[39m \u001b[39m+\u001b[39m recurive_a(n\u001b[39m-\u001b[39mb), \u001b[39m1\u001b[39m \u001b[39m+\u001b[39m recurive_a(n\u001b[39m-\u001b[39;49mc))\n",
      "\u001b[1;31mKeyboardInterrupt\u001b[0m: "
     ]
    }
   ],
   "source": [
    "exponential_res = [time_a(x) for x in exponential]"
   ]
  },
  {
   "cell_type": "code",
   "execution_count": 73,
   "metadata": {},
   "outputs": [
    {
     "data": {
      "image/png": "[encoded data removed]",
      "text/plain": [
       "<Figure size 432x288 with 1 Axes>"
      ]
     },
     "metadata": {
      "needs_background": "light"
     },
     "output_type": "display_data"
    }
   ],
   "source": [
    "plt.title(\"Runtime\")\n",
    "plt.plot(linear, linear_res, \"*\")\n",
    "#plt.plot(exponential, exponential_res)\n",
    "plt.xlabel(r'n')\n",
    "plt.ylabel(r'time [s]')\n",
    "plt.grid()\n",
    "plt.show()"
   ]
  },
  {
   "attachments": {},
   "cell_type": "markdown",
   "metadata": {},
   "source": [
    "(c) Make a new implementation, based on the one from (a), but where you add memoization to save computed values of the Coins() function and reuse them when they are needed again, thereby turning this into a dynamic programming solution.\n",
    "\n",
    "Submit this implementation to the Kattis problem. In order to pass this part of the lab, your implementation here must get an Accepted result on Kattis."
   ]
  },
  {
   "cell_type": "code",
   "execution_count": 1,
   "metadata": {},
   "outputs": [],
   "source": [
    "import sys\n",
    "import numpy as np\n",
    "import matplotlib.pyplot as plt\n",
    "from time import process_time\n",
    "\n",
    "sys.setrecursionlimit(1_000_000)"
   ]
  },
  {
   "cell_type": "code",
   "execution_count": 18,
   "metadata": {},
   "outputs": [],
   "source": [
    "a = 5\n",
    "b = 6\n",
    "c = 7"
   ]
  },
  {
   "cell_type": "code",
   "execution_count": 3,
   "metadata": {},
   "outputs": [],
   "source": [
    "def memoization(n):\n",
    "    b_buffer = [None for x in range(n+1)]\n",
    "\n",
    "    return memoization_helper(n, b_buffer)\n",
    "    \n",
    "def memoization_helper(n, buffer):    \n",
    "    if n < 0:\n",
    "        return 10**10\n",
    "    elif n == 0:\n",
    "        return 0\n",
    "    elif buffer[n] is not None:\n",
    "        return buffer[n]\n",
    "    else:\n",
    "        buffer[n] = min(n, 1 + memoization_helper(n-a, buffer), 1 + memoization_helper(n-b, buffer), 1 + memoization_helper(n-c, buffer))\n",
    "\n",
    "    return buffer[n]\n"
   ]
  },
  {
   "cell_type": "code",
   "execution_count": 4,
   "metadata": {},
   "outputs": [],
   "source": [
    "def time_b(n):\n",
    "    start = process_time()\n",
    "    memoization(n)\n",
    "    end = process_time()\n",
    "    \n",
    "    return end - start"
   ]
  },
  {
   "cell_type": "code",
   "execution_count": 5,
   "metadata": {},
   "outputs": [],
   "source": [
    "n = 1000\n",
    "linear = [n+x for x in range(0,20)]\n",
    "exponential = [2**x * n for x in range(3)]"
   ]
  },
  {
   "cell_type": "code",
   "execution_count": 6,
   "metadata": {},
   "outputs": [],
   "source": [
    "linear_res = [time_b(x) for x in linear]\n",
    "exponential_res = [time_b(x) for x in exponential]"
   ]
  },
  {
   "cell_type": "code",
   "execution_count": 7,
   "metadata": {},
   "outputs": [
    {
     "data": {
      "image/png": "[encoded data removed]",
      "text/plain": [
       "<Figure size 432x288 with 1 Axes>"
      ]
     },
     "metadata": {
      "needs_background": "light"
     },
     "output_type": "display_data"
    }
   ],
   "source": [
    "plt.title(\"Runtime\")\n",
    "plt.plot(linear, linear_res, \"*\")\n",
    "plt.plot(exponential, exponential_res)\n",
    "plt.xlabel(r'n')\n",
    "plt.ylabel(r'time [s]')\n",
    "plt.grid()\n",
    "plt.show()"
   ]
  },
  {
   "attachments": {},
   "cell_type": "markdown",
   "metadata": {},
   "source": [
    "(e) Make a bottom-up implementation of this algorithm. In other words, instead of a recursive algorithm, write an iterative algorithm with a for loop that tabulates the values of Coins() from small to large. In order to pass this part of the lab, your implementation here must get an Accepted result on Kattis.\n",
    "\n",
    "Compare the running time of this program with the one from (c). What differences are there, if any?"
   ]
  },
  {
   "cell_type": "code",
   "execution_count": 54,
   "metadata": {},
   "outputs": [],
   "source": [
    "a = 5\n",
    "b = 6\n",
    "c = 7"
   ]
  },
  {
   "cell_type": "code",
   "execution_count": 56,
   "metadata": {},
   "outputs": [],
   "source": [
    "def get_buffer(i, buffer):\n",
    "    if i < 0:\n",
    "        return 10**10\n",
    "    \n",
    "    return buffer[i]\n",
    "    \n",
    "\n",
    "def bottom_up(n):\n",
    "    if n < 0:\n",
    "        return 10**10\n",
    "    elif n == 0:\n",
    "        return 0\n",
    "\n",
    "    buffer = [0 for i in range(n+1)]\n",
    "    for i in range(1,n+1):\n",
    "        buffer[i] = min(i, 1 + get_buffer(i-a, buffer), 1 + get_buffer(i-b, buffer), 1 + get_buffer(i-c, buffer))\n",
    "        print(buffer)\n",
    "\n",
    "    return buffer[n]\n"
   ]
  },
  {
   "cell_type": "code",
   "execution_count": 57,
   "metadata": {},
   "outputs": [],
   "source": [
    "def time_c(n):\n",
    "    start = process_time()\n",
    "    bottom_up(n)\n",
    "    end = process_time()\n",
    "    \n",
    "    return end - start"
   ]
  },
  {
   "cell_type": "code",
   "execution_count": 58,
   "metadata": {},
   "outputs": [],
   "source": [
    "n = 1000\n",
    "linear = [n+x for x in range(0,20)]\n",
    "exponential = [2**x * n for x in range(3)]"
   ]
  },
  {
   "cell_type": "code",
   "execution_count": 59,
   "metadata": {},
   "outputs": [],
   "source": [
    "linear_res = [time_b(x) for x in linear]\n",
    "exponential_res = [time_b(x) for x in exponential]"
   ]
  },
  {
   "cell_type": "code",
   "execution_count": 60,
   "metadata": {},
   "outputs": [
    {
     "data": {
      "image/png": "[encoded data removed]",
      "text/plain": [
       "<Figure size 432x288 with 1 Axes>"
      ]
     },
     "metadata": {
      "needs_background": "light"
     },
     "output_type": "display_data"
    }
   ],
   "source": [
    "plt.title(\"Runtime\")\n",
    "plt.plot(linear, linear_res, \"*\")\n",
    "plt.plot(exponential, exponential_res)\n",
    "plt.xlabel(r'n')\n",
    "plt.ylabel(r'time [s]')\n",
    "plt.grid()\n",
    "plt.show()"
   ]
  },
  {
   "cell_type": "code",
   "execution_count": null,
   "metadata": {},
   "outputs": [],
   "source": []
  }
 ],
 "metadata": {
  "kernelspec": {
   "display_name": "Python 3",
   "language": "python",
   "name": "python3"
  },
  "language_info": {
   "codemirror_mode": {
    "name": "ipython",
    "version": 3
   },
   "file_extension": ".py",
   "mimetype": "text/x-python",
   "name": "python",
   "nbconvert_exporter": "python",
   "pygments_lexer": "ipython3",
   "version": "3.10.5"
  },
  "orig_nbformat": 4,
  "vscode": {
   "interpreter": {
    "hash": "c5d01433c49bebc7c0f039aefb7a5f7006b5cc5372ab57f4229212c8564f15fd"
   }
  }
 },
 "nbformat": 4,
 "nbformat_minor": 2
}
