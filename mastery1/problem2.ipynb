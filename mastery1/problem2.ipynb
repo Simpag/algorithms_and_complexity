{
 "cells": [
  {
   "cell_type": "code",
   "execution_count": 1,
   "metadata": {},
   "outputs": [],
   "source": [
    "n = 4\n",
    "d = (10, 15, 16, 11)\n",
    "r = (10, 8, 4, 11)"
   ]
  },
  {
   "attachments": {},
   "cell_type": "markdown",
   "metadata": {},
   "source": [
    "Sort d (O(nlog(n)) )\n",
    "Sort-reversed r (O(nlog(n)) )\n",
    "\n",
    "pair up d_i with r_i and keep note of highest (h) and lowest (l) combination (O(n))\n",
    "\n",
    "answer is h-l"
   ]
  },
  {
   "cell_type": "code",
   "execution_count": 2,
   "metadata": {},
   "outputs": [],
   "source": [
    "def p1():\n",
    "    d2 = sorted(d)\n",
    "    r2 = sorted(r, reverse=True)\n",
    "\n",
    "    h = 0\n",
    "    l = 10*100\n",
    "\n",
    "    for i in range(len(d2)):\n",
    "        s = d2[i] + r2[i]\n",
    "        if s > h:\n",
    "            h = s\n",
    "        \n",
    "        if s < l:\n",
    "            l = s\n",
    "\n",
    "    return h-l\n"
   ]
  },
  {
   "cell_type": "code",
   "execution_count": 3,
   "metadata": {},
   "outputs": [
    {
     "data": {
      "text/plain": [
       "3"
      ]
     },
     "execution_count": 3,
     "metadata": {},
     "output_type": "execute_result"
    }
   ],
   "source": [
    "p1()"
   ]
  },
  {
   "cell_type": "code",
   "execution_count": null,
   "metadata": {},
   "outputs": [],
   "source": []
  }
 ],
 "metadata": {
  "kernelspec": {
   "display_name": "Python 3",
   "language": "python",
   "name": "python3"
  },
  "language_info": {
   "codemirror_mode": {
    "name": "ipython",
    "version": 3
   },
   "file_extension": ".py",
   "mimetype": "text/x-python",
   "name": "python",
   "nbconvert_exporter": "python",
   "pygments_lexer": "ipython3",
   "version": "3.10.9"
  },
  "orig_nbformat": 4,
  "vscode": {
   "interpreter": {
    "hash": "aee8b7b246df8f9039afb4144a1f6fd8d2ca17a180786b69acc140d282b71a49"
   }
  }
 },
 "nbformat": 4,
 "nbformat_minor": 2
}
