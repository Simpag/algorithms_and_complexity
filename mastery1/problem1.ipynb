{
 "cells": [
  {
   "cell_type": "code",
   "execution_count": 108,
   "metadata": {},
   "outputs": [],
   "source": [
    "# input\n",
    "n = 4\n",
    "c = (2,2,3,2)       # the number of kWh of electricity you consumed this day\n",
    "p = (2,5,8,10)      # the variable price per kWh, what you would pay this day if you have no fixed plan.\n",
    "q = (4,3,4,4)       # the price per kWh for a 1-year plan started this day.\n",
    "r = (10,9,8,7)      # the price per kWh for a 2-year plan started this day. \n",
    "s = (10,10,10,10)   # the price per kWh for a 5-year plan started this day."
   ]
  },
  {
   "cell_type": "code",
   "execution_count": 109,
   "metadata": {},
   "outputs": [],
   "source": [
    "def P(x):\n",
    "    global n, memo\n",
    "    n = x\n",
    "    memo = {}\n",
    "    return p1(0)\n",
    "\n",
    "def p1(d):\n",
    "    if d > n:\n",
    "        return 10**100\n",
    "    elif d == n:\n",
    "        return 0\n",
    "\n",
    "    if d in memo:\n",
    "        return memo[d]\n",
    "\n",
    "    q1 = 365 if n-d > 365 else n-d\n",
    "    r1 = 730 if n-d > 730 else n-d\n",
    "    s1 = 1825 if n-d > 1825 else n-d\n",
    "\n",
    "    result = min(c[d]*p[d] + p1(d+1), sum(c[d:d+q1])*q[d] + p1(d+q1), sum(c[d:d+r1])*r[d] + p1(d+r1), sum(c[d:d+s1])*s[d] + p1(d+s1))\n",
    "\n",
    "    memo[d] = result\n",
    "    return result\n"
   ]
  },
  {
   "cell_type": "code",
   "execution_count": 110,
   "metadata": {},
   "outputs": [
    {
     "data": {
      "text/plain": [
       "25"
      ]
     },
     "execution_count": 110,
     "metadata": {},
     "output_type": "execute_result"
    }
   ],
   "source": [
    "P(4)"
   ]
  },
  {
   "cell_type": "code",
   "execution_count": 139,
   "metadata": {},
   "outputs": [],
   "source": [
    "def smallest_total_cost():\n",
    "    var_cost = [0] * n\n",
    "    one_year_cost = [0] * n\n",
    "    two_year_cost = [0] * n\n",
    "    five_year_cost = [0] * n\n",
    "    dp = [[0] * 4 for _ in range(n)]\n",
    "\n",
    "    var_cost[0] = p[0]\n",
    "    one_year_cost[0] = q[0]\n",
    "    two_year_cost[0] = r[0]\n",
    "    five_year_cost[0] = s[0]\n",
    "\n",
    "    for i in range(1, n):\n",
    "        var_cost[i] = min(p[i], var_cost[i-1] + c[i] * p[i])\n",
    "        one_year_cost[i] = min(q[i] + dp[i-1][0], one_year_cost[max(0, i-365)] + q[max(0, i-365)] + sum(c[max(0, i-364):i+1]) * q[max(0, i-365)])\n",
    "        two_year_cost[i] = min(r[i] + dp[i-1][1], two_year_cost[max(0, i-730)] + r[max(0, i-730)] + sum(c[max(0, i-729):i+1]) * r[max(0, i-730)])\n",
    "        five_year_cost[i] = min(s[i] + dp[i-1][2], five_year_cost[max(0, i-1825)] + s[max(0, i-1825)] + sum(c[max(0, i-1824):i+1]) * s[max(0, i-1825)])\n",
    "        dp[i][0] = min(var_cost[i], one_year_cost[i], two_year_cost[i], five_year_cost[i])\n",
    "        dp[i][1] = min(one_year_cost[max(0, i-365)], two_year_cost[max(0, i-730)], five_year_cost[max(0, i-1825)])\n",
    "        dp[i][2] = min(two_year_cost[max(0, i-730)], five_year_cost[max(0, i-1825)])\n",
    "        dp[i][3] = five_year_cost[max(0, i-1825)]\n",
    "\n",
    "    return min(dp[n-1][0], dp[n-1][1], dp[n-1][2], dp[n-1][3])\n"
   ]
  },
  {
   "cell_type": "code",
   "execution_count": 140,
   "metadata": {},
   "outputs": [
    {
     "data": {
      "text/plain": [
       "4"
      ]
     },
     "execution_count": 140,
     "metadata": {},
     "output_type": "execute_result"
    }
   ],
   "source": [
    "smallest_total_cost()"
   ]
  },
  {
   "cell_type": "code",
   "execution_count": 142,
   "metadata": {},
   "outputs": [
    {
     "name": "stdout",
     "output_type": "stream",
     "text": [
      "[[4, inf, inf], [14, inf, inf], [32, inf, inf], [40, inf, inf]]\n",
      "40\n"
     ]
    }
   ],
   "source": [
    "def optimal_plan(n, c, p, q, r, s):\n",
    "    dp = [[float('inf'), float('inf'), float('inf')] for _ in range(n)]\n",
    "    dp[0][0] = c[0] * p[0]\n",
    "    one_year_cost = [q[i] + sum(c[:i+1]) * q[i] for i in range(n)]\n",
    "    two_year_cost = [r[i] + sum(c[:i+1]) * r[i] for i in range(n)]\n",
    "    five_year_cost = [s[i] + sum(c[:i+1]) * s[i] for i in range(n)]\n",
    "    for i in range(1, n):\n",
    "        dp[i][0] = min(dp[i-1][0] + c[i] * p[i], one_year_cost[i], two_year_cost[i], five_year_cost[i])\n",
    "        if i >= 365:\n",
    "            one_year_cost[i] = min(q[i] + dp[i-365][0], one_year_cost[i-365] + q[i] + sum(c[i-364:i+1]) * q[i])\n",
    "        if i >= 730:\n",
    "            two_year_cost[i] = min(r[i] + dp[i-730][1], two_year_cost[i-730] + r[i] + sum(c[i-729:i+1]) * r[i])\n",
    "        if i >= 1825:\n",
    "            five_year_cost[i] = min(s[i] + dp[i-1825][2], five_year_cost[i-1825] + s[i] + sum(c[i-1824:i+1]) * s[i])\n",
    "\n",
    "    return dp[-1][0]\n",
    "\n",
    "# Example usage:\n",
    "n = 4\n",
    "c = [2, 2, 3, 2]\n",
    "p = [2, 5, 8, 10]\n",
    "q = [4, 3, 4, 4]\n",
    "r = [10, 9, 8, 7]\n",
    "s = [10, 10, 10, 10]\n",
    "print(optimal_plan(n, c, p, q, r, s)) # Output: 25\n"
   ]
  },
  {
   "cell_type": "code",
   "execution_count": null,
   "metadata": {},
   "outputs": [],
   "source": []
  }
 ],
 "metadata": {
  "kernelspec": {
   "display_name": "Python 3",
   "language": "python",
   "name": "python3"
  },
  "language_info": {
   "codemirror_mode": {
    "name": "ipython",
    "version": 3
   },
   "file_extension": ".py",
   "mimetype": "text/x-python",
   "name": "python",
   "nbconvert_exporter": "python",
   "pygments_lexer": "ipython3",
   "version": "3.10.9"
  },
  "orig_nbformat": 4,
  "vscode": {
   "interpreter": {
    "hash": "aee8b7b246df8f9039afb4144a1f6fd8d2ca17a180786b69acc140d282b71a49"
   }
  }
 },
 "nbformat": 4,
 "nbformat_minor": 2
}
