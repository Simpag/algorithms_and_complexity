{
 "cells": [
  {
   "cell_type": "code",
   "execution_count": 22,
   "metadata": {},
   "outputs": [],
   "source": [
    "# input\n",
    "n = 4\n",
    "c = (2,2,3,2)       # the number of kWh of electricity you consumed this day\n",
    "p = (2,5,8,10)      # the variable price per kWh, what you would pay this day if you have no fixed plan.\n",
    "q = (4,3,4,4)       # the price per kWh for a 1-year plan started this day.\n",
    "r = (10,9,8,7)      # the price per kWh for a 2-year plan started this day. \n",
    "s = (10,10,10,10)   # the price per kWh for a 5-year plan started this day."
   ]
  },
  {
   "cell_type": "code",
   "execution_count": 25,
   "metadata": {},
   "outputs": [],
   "source": [
    "import numpy as np\n",
    "def p2(n):\n",
    "    dp = np.zeros(n)\n",
    "    sum_c_365 = np.empty(n)\n",
    "\n",
    "    for i in range(n):\n",
    "        sum_c_365[i] = sum(c[i:i+365])\n",
    "    \n",
    "    for i in range(n):\n",
    "        dp[i] = min()\n",
    "\n",
    "    \n",
    "    return sum_c_365\n",
    "\n"
   ]
  },
  {
   "cell_type": "code",
   "execution_count": 26,
   "metadata": {},
   "outputs": [
    {
     "data": {
      "text/plain": [
       "array([9., 7., 5., 2.])"
      ]
     },
     "execution_count": 26,
     "metadata": {},
     "output_type": "execute_result"
    }
   ],
   "source": [
    "p2(4)"
   ]
  },
  {
   "cell_type": "code",
   "execution_count": 3,
   "metadata": {},
   "outputs": [],
   "source": [
    "def P(x):\n",
    "    global n, memo\n",
    "    n = x\n",
    "    memo = {}\n",
    "    return p1(0)\n",
    "\n",
    "def p1(d):\n",
    "    if d > n:\n",
    "        return 10**100\n",
    "    elif d == n:\n",
    "        return 0\n",
    "\n",
    "    if d in memo:\n",
    "        return memo[d]\n",
    "\n",
    "    q1 = 365 if n-d > 365 else n-d\n",
    "    r1 = 730 if n-d > 730 else n-d\n",
    "    s1 = 1825 if n-d > 1825 else n-d\n",
    "\n",
    "    result = min(c[d]*p[d] + p1(d+1), sum(c[d:d+q1])*q[d] + p1(d+q1), sum(c[d:d+r1])*r[d] + p1(d+r1), sum(c[d:d+s1])*s[d] + p1(d+s1))\n",
    "\n",
    "    memo[d] = result\n",
    "    return result\n"
   ]
  },
  {
   "cell_type": "code",
   "execution_count": 4,
   "metadata": {},
   "outputs": [
    {
     "data": {
      "text/plain": [
       "25"
      ]
     },
     "execution_count": 4,
     "metadata": {},
     "output_type": "execute_result"
    }
   ],
   "source": [
    "P(4)"
   ]
  }
 ],
 "metadata": {
  "kernelspec": {
   "display_name": "Python 3",
   "language": "python",
   "name": "python3"
  },
  "language_info": {
   "codemirror_mode": {
    "name": "ipython",
    "version": 3
   },
   "file_extension": ".py",
   "mimetype": "text/x-python",
   "name": "python",
   "nbconvert_exporter": "python",
   "pygments_lexer": "ipython3",
   "version": "3.10.9"
  },
  "orig_nbformat": 4,
  "vscode": {
   "interpreter": {
    "hash": "aee8b7b246df8f9039afb4144a1f6fd8d2ca17a180786b69acc140d282b71a49"
   }
  }
 },
 "nbformat": 4,
 "nbformat_minor": 2
}
