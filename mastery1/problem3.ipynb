{
 "cells": [
  {
   "cell_type": "code",
   "execution_count": 151,
   "metadata": {},
   "outputs": [],
   "source": [
    "n = 3\n",
    "\n",
    "P = [\n",
    "    [0.5, 0.5, 0],\n",
    "    [0.25, 0.25, 0.5]\n",
    "]\n",
    "\n",
    "O = [\n",
    "    ['s', 'n', 'z'],\n",
    "    ['o', 'o', 'w']\n",
    "]\n",
    "\n",
    "S = \"nosnow\"\n",
    "m = len(S)"
   ]
  },
  {
   "cell_type": "code",
   "execution_count": 152,
   "metadata": {},
   "outputs": [],
   "source": [
    "def s2():\n",
    "    curr_state = 0\n",
    "    probability = 1\n",
    "    for i in range(m):\n",
    "        next_state = None\n",
    "        for j in range(n):\n",
    "            if O[curr_state][j] == S[i] and P[curr_state][j] > 0:\n",
    "                if (i+1 < m):\n",
    "                    if (S[i+1] in O[j]):\n",
    "                        next_state = j\n",
    "                else: # last one\n",
    "                    if j == n-1:\n",
    "                        next_state = j\n",
    "\n",
    "        print(curr_state, next_state, S[i])\n",
    "        probability *= P[curr_state][next_state]\n",
    "\n",
    "        if next_state is None:\n",
    "            return False\n",
    "        else:\n",
    "            curr_state = next_state\n",
    "\n",
    "    if curr_state == n-1:\n",
    "        print(probability)\n",
    "        return True\n",
    "    else:\n",
    "        return False"
   ]
  },
  {
   "cell_type": "code",
   "execution_count": 153,
   "metadata": {},
   "outputs": [
    {
     "name": "stdout",
     "output_type": "stream",
     "text": [
      "0 1 n\n",
      "1 0 o\n",
      "0 0 s\n",
      "0 1 n\n",
      "1 1 o\n",
      "1 2 w\n",
      "0.00390625\n"
     ]
    },
    {
     "data": {
      "text/plain": [
       "True"
      ]
     },
     "execution_count": 153,
     "metadata": {},
     "output_type": "execute_result"
    }
   ],
   "source": [
    "s2()"
   ]
  },
  {
   "cell_type": "code",
   "execution_count": null,
   "metadata": {},
   "outputs": [],
   "source": []
  }
 ],
 "metadata": {
  "kernelspec": {
   "display_name": "Python 3",
   "language": "python",
   "name": "python3"
  },
  "language_info": {
   "codemirror_mode": {
    "name": "ipython",
    "version": 3
   },
   "file_extension": ".py",
   "mimetype": "text/x-python",
   "name": "python",
   "nbconvert_exporter": "python",
   "pygments_lexer": "ipython3",
   "version": "3.10.9"
  },
  "orig_nbformat": 4,
  "vscode": {
   "interpreter": {
    "hash": "aee8b7b246df8f9039afb4144a1f6fd8d2ca17a180786b69acc140d282b71a49"
   }
  }
 },
 "nbformat": 4,
 "nbformat_minor": 2
}
